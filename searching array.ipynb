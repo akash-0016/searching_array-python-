{
  "nbformat": 4,
  "nbformat_minor": 0,
  "metadata": {
    "colab": {
      "provenance": [],
      "authorship_tag": "ABX9TyOH/tnu320bKQAjmWo1GSK7",
      "include_colab_link": true
    },
    "kernelspec": {
      "name": "python3",
      "display_name": "Python 3"
    },
    "language_info": {
      "name": "python"
    }
  },
  "cells": [
    {
      "cell_type": "markdown",
      "metadata": {
        "id": "view-in-github",
        "colab_type": "text"
      },
      "source": [
        "<a href=\"https://colab.research.google.com/github/akash-0016/searching_array-python-/blob/main/Untitled1.ipynb\" target=\"_parent\"><img src=\"https://colab.research.google.com/assets/colab-badge.svg\" alt=\"Open In Colab\"/></a>"
      ]
    },
    {
      "cell_type": "code",
      "execution_count": null,
      "metadata": {
        "colab": {
          "base_uri": "https://localhost:8080/"
        },
        "id": "0ZTTs3TbHa-w",
        "outputId": "fa6ba556-4a2b-4bde-e746-acf519534a81"
      },
      "outputs": [
        {
          "output_type": "stream",
          "name": "stdout",
          "text": [
            "enter the array elements (separate with spaces): 10 20 10\n",
            "element to be searched: 10\n",
            "The element 10 is found at index 0\n",
            "The element 10 is found at index 2\n"
          ]
        }
      ],
      "source": [
        "arr_str = (input(\"enter the array elements (separate with spaces): \"))\n",
        "arr = [int(x) for x in arr_str.split()]\n",
        "target = int(input(\"element to be searched: \"))\n",
        "n = len(arr)\n",
        "found = False\n",
        "for i in range(n):\n",
        "  if arr[i] == target:\n",
        "    print(f\"The element {target} is found at index {i}\")\n",
        "    found = True\n",
        "if not found:\n",
        "  print(f\"The element {target} is not found in the array.\")"
      ]
    },
    {
      "cell_type": "code",
      "source": [
        "arr1 = (input(\"enter the array elements (separate with spaces): \"))\n",
        "arr = [int(x) for x in arr_str.split()]\n",
        "target = int(input(\"element to be searched: \"))\n",
        "s=0\n",
        "e=len(arr)-1\n",
        "found=False\n",
        "while s<=e:\n",
        "  mid=(s+e)//2\n",
        "  if arr[mid]==target:\n",
        "    print(\"the element is fount at index:\",mid)\n",
        "    found=True\n",
        "    break\n",
        "  elif(arr[mid]>target):\n",
        "    e=mid-1\n",
        "  else:\n",
        "    s=mid+1\n",
        "if not found:\n",
        "  print(\"the element is  not found\")"
      ],
      "metadata": {
        "colab": {
          "base_uri": "https://localhost:8080/"
        },
        "id": "Ak-2iojgKbyH",
        "outputId": "0b25e32c-b15e-4e0d-aac7-4cf812e82965"
      },
      "execution_count": null,
      "outputs": [
        {
          "output_type": "stream",
          "name": "stdout",
          "text": [
            "enter the array elements (separate with spaces): 10 2 3\n",
            "element to be searched: 2\n",
            "the element is fount at index: 1\n"
          ]
        }
      ]
    },
    {
      "cell_type": "code",
      "source": [],
      "metadata": {
        "id": "3Ja1LjsHSOZn"
      },
      "execution_count": null,
      "outputs": []
    }
  ]
}
